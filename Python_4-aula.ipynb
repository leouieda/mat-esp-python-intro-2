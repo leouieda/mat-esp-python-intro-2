{
 "cells": [
  {
   "cell_type": "markdown",
   "metadata": {},
   "source": [
    "# Python 4: extraindo informação de arquivos de texto\n",
    "Parte do curso\n",
    "[Matemática Especial I](https://github.com/mat-esp/about)\n",
    "da [UERJ](http://www.uerj.br/).\n",
    "\n",
    "---\n",
    "## Revisando strings\n",
    "Strings são sequencias de caracteres. No Python definimos uma string cercando-a com aspas, simples ou duplas.\n",
    "\n",
    "Utilizar o operador de soma sobre strings irá concatená-las, ou seja irá juntar o final de uma com o começo da outra. O operador de multiplicação sobre uma string e um número inteiro irá repetir a string este número de vezes."
   ]
  },
  {
   "cell_type": "code",
   "execution_count": 1,
   "metadata": {
    "collapsed": false
   },
   "outputs": [
    {
     "name": "stdout",
     "output_type": "stream",
     "text": [
      "isto é uma string \n",
      " isto também é\n"
     ]
    }
   ],
   "source": [
    "minha_str1, minha_str2 = 'isto é uma string', \"isto também é\"\n",
    "print(minha_str1,'\\n', \n",
    "      minha_str2)"
   ]
  },
  {
   "cell_type": "code",
   "execution_count": 2,
   "metadata": {
    "collapsed": false
   },
   "outputs": [
    {
     "data": {
      "text/plain": [
       "'isto é uma stringisto também é'"
      ]
     },
     "execution_count": 2,
     "metadata": {},
     "output_type": "execute_result"
    }
   ],
   "source": [
    "'isto é uma string' + \"isto também é\""
   ]
  },
  {
   "cell_type": "code",
   "execution_count": 3,
   "metadata": {
    "collapsed": false
   },
   "outputs": [
    {
     "data": {
      "text/plain": [
       "'101010'"
      ]
     },
     "execution_count": 3,
     "metadata": {},
     "output_type": "execute_result"
    }
   ],
   "source": [
    "'10' * 3"
   ]
  },
  {
   "cell_type": "markdown",
   "metadata": {},
   "source": [
    "---\n",
    "Strings com múltiplas linhas, _longstrings_, são definidas entre três aspas no início e no final, duplas ou simples."
   ]
  },
  {
   "cell_type": "code",
   "execution_count": 4,
   "metadata": {
    "collapsed": false
   },
   "outputs": [
    {
     "name": "stdout",
     "output_type": "stream",
     "text": [
      "\n",
      "Rua São Francisco Xavier 524 - sala 4018 bloco E, \n",
      "Maracanã, Rio de Janeiro/RJ CEP: 20550-013\n",
      "\n"
     ]
    },
    {
     "data": {
      "text/plain": [
       "'\\nRua São Francisco Xavier 524 - sala 4018 bloco E, \\nMaracanã, Rio de Janeiro/RJ CEP: 20550-013\\n'"
      ]
     },
     "execution_count": 4,
     "metadata": {},
     "output_type": "execute_result"
    }
   ],
   "source": [
    "endereco_faoc_uerj = '''\n",
    "Rua São Francisco Xavier 524 - sala 4018 bloco E, \n",
    "Maracanã, Rio de Janeiro/RJ CEP: 20550-013\n",
    "'''\n",
    "print (endereco_faoc_uerj)\n",
    "endereco_faoc_uerj"
   ]
  },
  {
   "cell_type": "code",
   "execution_count": 5,
   "metadata": {
    "collapsed": false
   },
   "outputs": [
    {
     "name": "stdout",
     "output_type": "stream",
     "text": [
      "Não tinha medo tal\n",
      "João de Santo Cristo\n"
     ]
    }
   ],
   "source": [
    "uma_str = \"\"\"Não tinha medo tal\n",
    "João de Santo Cristo\"\"\"\n",
    "print(uma_str)"
   ]
  },
  {
   "cell_type": "markdown",
   "metadata": {},
   "source": [
    "---\n",
    "Strings se comportam como tuplas(*tuples*). Podemos explorar os caracteres de uma \n",
    "string utilizando a mesma notação de indexação de listas.\n",
    "\n",
    "Assim como as tuplas, strings são imutáveis. Ou seja, depois de atribuída seu conteúdo não pode mudar. No entanto podemos criar uma nova variável que seja uma modificação de uma string existente."
   ]
  },
  {
   "cell_type": "code",
   "execution_count": 6,
   "metadata": {
    "collapsed": false
   },
   "outputs": [
    {
     "name": "stdout",
     "output_type": "stream",
     "text": [
      "\n",
      "Rua São Francisco Xavier 524\n"
     ]
    }
   ],
   "source": [
    "print(endereco_faoc_uerj[0:29])"
   ]
  },
  {
   "cell_type": "code",
   "execution_count": 7,
   "metadata": {
    "collapsed": false
   },
   "outputs": [
    {
     "name": "stdout",
     "output_type": "stream",
     "text": [
      "['a', 'b']\n",
      "['c', 'b']\n",
      "ab\n"
     ]
    }
   ],
   "source": [
    "minha_lista = ['a','b']\n",
    "print(minha_lista)\n",
    "minha_lista[0] = 'c'\n",
    "print(minha_lista)\n",
    "\n",
    "minha_str3 = 'ab'\n",
    "print(minha_str3)\n",
    "# minha_str3[0] = 'c'\n",
    "# descomente e rode a linha acima para tentar replicar na string o que você fez com a lista"
   ]
  },
  {
   "cell_type": "code",
   "execution_count": 8,
   "metadata": {
    "collapsed": false
   },
   "outputs": [
    {
     "name": "stdout",
     "output_type": "stream",
     "text": [
      "Av. São Francisco Xavier\n"
     ]
    }
   ],
   "source": [
    "end_modificado = 'Av.' + endereco_faoc_uerj[4:25]\n",
    "print(end_modificado)"
   ]
  },
  {
   "cell_type": "markdown",
   "metadata": {
    "collapsed": false
   },
   "source": [
    "---\n",
    "Strings possuem muitos métodos úteis, a maioria dos editores autocompletam estes métodos com um _Tab_ depois de inserir um ponto ao final do objeto (como fazemos quando importamos bibliotecas). Alternativamente podemos conferir estes métodos usando a função _dir()_.\n",
    "\n",
    "A combinação da ajuda interativa do Python com buscas rápidas na internet resolvem a maioria dos problemas rapidamente."
   ]
  },
  {
   "cell_type": "code",
   "execution_count": 9,
   "metadata": {
    "collapsed": false
   },
   "outputs": [
    {
     "name": "stdout",
     "output_type": "stream",
     "text": [
      "['__add__', '__class__', '__contains__', '__delattr__', '__dir__', '__doc__', '__eq__', '__format__', '__ge__', '__getattribute__', '__getitem__', '__getnewargs__', '__gt__', '__hash__', '__init__', '__iter__', '__le__', '__len__', '__lt__', '__mod__', '__mul__', '__ne__', '__new__', '__reduce__', '__reduce_ex__', '__repr__', '__rmod__', '__rmul__', '__setattr__', '__sizeof__', '__str__', '__subclasshook__', 'capitalize', 'casefold', 'center', 'count', 'encode', 'endswith', 'expandtabs', 'find', 'format', 'format_map', 'index', 'isalnum', 'isalpha', 'isdecimal', 'isdigit', 'isidentifier', 'islower', 'isnumeric', 'isprintable', 'isspace', 'istitle', 'isupper', 'join', 'ljust', 'lower', 'lstrip', 'maketrans', 'partition', 'replace', 'rfind', 'rindex', 'rjust', 'rpartition', 'rsplit', 'rstrip', 'split', 'splitlines', 'startswith', 'strip', 'swapcase', 'title', 'translate', 'upper', 'zfill']\n"
     ]
    }
   ],
   "source": [
    "metodos_de_str = dir(end_modificado)\n",
    "print (metodos_de_str)"
   ]
  },
  {
   "cell_type": "code",
   "execution_count": 10,
   "metadata": {
    "collapsed": false,
    "scrolled": true
   },
   "outputs": [
    {
     "name": "stdout",
     "output_type": "stream",
     "text": [
      "Help on built-in function split:\n",
      "\n",
      "split(...) method of builtins.str instance\n",
      "    S.split(sep=None, maxsplit=-1) -> list of strings\n",
      "    \n",
      "    Return a list of the words in S, using sep as the\n",
      "    delimiter string.  If maxsplit is given, at most maxsplit\n",
      "    splits are done. If sep is not specified or is None, any\n",
      "    whitespace string is a separator and empty strings are\n",
      "    removed from the result.\n",
      "\n"
     ]
    }
   ],
   "source": [
    "help(end_modificado.split)"
   ]
  },
  {
   "cell_type": "code",
   "execution_count": 11,
   "metadata": {
    "collapsed": false,
    "scrolled": true
   },
   "outputs": [
    {
     "name": "stdout",
     "output_type": "stream",
     "text": [
      "['Rua', 'São', 'Francisco', 'Xavier', '524', '-', 'sala', '4018', 'bloco', 'E,', 'Maracanã,', 'Rio', 'de', 'Janeiro/RJ', 'CEP:', '20550-013']\n"
     ]
    },
    {
     "data": {
      "text/plain": [
       "list"
      ]
     },
     "execution_count": 11,
     "metadata": {},
     "output_type": "execute_result"
    }
   ],
   "source": [
    "lista_end_uerj = endereco_faoc_uerj.split()\n",
    "print(lista_end_uerj)\n",
    "type(lista_end_uerj)"
   ]
  },
  {
   "cell_type": "code",
   "execution_count": 12,
   "metadata": {
    "collapsed": false
   },
   "outputs": [
    {
     "data": {
      "text/plain": [
       "'Rua São Francisco Xavier 524 - sala 4018 bloco E, \\nMaracanã, Rio de Janeiro/RJ CEP: 20550-013'"
      ]
     },
     "execution_count": 12,
     "metadata": {},
     "output_type": "execute_result"
    }
   ],
   "source": [
    "#help(endereco_faoc_uerj.strip)\n",
    "endereco_faoc_uerj.strip()"
   ]
  },
  {
   "cell_type": "markdown",
   "metadata": {},
   "source": [
    "---\n",
    "## Condicionais\n",
    "### Lógica Booleana\n",
    "Ramo da álgebra em que as variáveis recebem os valores lógicos de _verdadeiro_ ou _falso_.\n",
    "\n",
    "No Python os valores booleanos têm um tipo próprio: _bool_"
   ]
  },
  {
   "cell_type": "code",
   "execution_count": 13,
   "metadata": {
    "collapsed": false
   },
   "outputs": [
    {
     "data": {
      "text/plain": [
       "bool"
      ]
     },
     "execution_count": 13,
     "metadata": {},
     "output_type": "execute_result"
    }
   ],
   "source": [
    "meu_bool = True\n",
    "type(meu_bool)"
   ]
  },
  {
   "cell_type": "markdown",
   "metadata": {
    "collapsed": true
   },
   "source": [
    "### Operadores de comparação\n",
    "Os operadores de comparação testam uma condição e retornam um valor booleano. São:"
   ]
  },
  {
   "cell_type": "code",
   "execution_count": 14,
   "metadata": {
    "collapsed": false
   },
   "outputs": [
    {
     "name": "stdout",
     "output_type": "stream",
     "text": [
      "a = 4 \n",
      "b = 7\n",
      "a == b False\n",
      "a != b True\n",
      "a > b False\n",
      "a < b True\n",
      "a >= b False\n",
      "a <= b True\n"
     ]
    }
   ],
   "source": [
    "a, b = 4,7\n",
    "print('a =', a, '\\nb =', b)\n",
    "\n",
    "print('a == b', a == b)  # 'a' é igual a 'b'\n",
    "\n",
    "print('a != b', a != b)  # 'a' é diferente de 'b'\n",
    "\n",
    "print('a > b', a > b)   # 'a' é maior do que 'b'\n",
    "\n",
    "print('a < b', a < b)   # 'a' é menor do que 'b'\n",
    "\n",
    "print('a >= b', a >= b)  # 'a' é maior ou igual a 'b'\n",
    "\n",
    "print('a <= b', a <= b)  # 'a' é menor ou igual a 'b'"
   ]
  },
  {
   "cell_type": "markdown",
   "metadata": {},
   "source": [
    "### Operadores condicionais\n",
    "São eles: _if_, _elif_ e _else_.\n",
    "O _if_ testa uma condição, se esta for verdadeira o bloco de código após o _if_ será executado. Assim como para o _for_, denota-se com _:_ após a condição do _if_ e em seguida o bloco de código identado a ser executado.\n",
    "O mesmo ocorre com o _else_ e o _elif_. Ambos devem vir após um _if_ e alinhados com este. Caso a condição do _if_ retorne um booleano __False__, será executado o _elif_ e caso todas as condições retornem __False__ será executado o _else_."
   ]
  },
  {
   "cell_type": "code",
   "execution_count": 15,
   "metadata": {
    "collapsed": false
   },
   "outputs": [
    {
     "name": "stdout",
     "output_type": "stream",
     "text": [
      "É verdadeiro\n"
     ]
    }
   ],
   "source": [
    "if meu_bool == True:\n",
    "    print ('É verdadeiro')"
   ]
  },
  {
   "cell_type": "code",
   "execution_count": 16,
   "metadata": {
    "collapsed": false
   },
   "outputs": [
    {
     "name": "stdout",
     "output_type": "stream",
     "text": [
      "É verdadeiro, pois 0 funciona como False e 1 como verdadeiro\n"
     ]
    }
   ],
   "source": [
    "if meu_bool == 1:\n",
    "    print ('É verdadeiro, pois 0 funciona como False e 1 como verdadeiro')\n"
   ]
  },
  {
   "cell_type": "code",
   "execution_count": 17,
   "metadata": {
    "collapsed": false
   },
   "outputs": [
    {
     "name": "stdout",
     "output_type": "stream",
     "text": [
      "É falso\n"
     ]
    }
   ],
   "source": [
    "if meu_bool == False:\n",
    "    print ('É verdadeiro')\n",
    "elif meu_bool == 2: # teste substituindo o 2 por 1 antes do ':'\n",
    "    print ('É igual a 2')\n",
    "else:\n",
    "    print ('É falso')"
   ]
  },
  {
   "cell_type": "markdown",
   "metadata": {},
   "source": [
    "### Operadores lógicos:\n",
    "Dentre eles: _and_, _or_, _not_ e _in_. Pode-se traduzí-los literalmente como _e_, _ou_ e _não_.\n",
    "\n",
    "O operador _and_ checha se duas ou mais condições são ambas verdadeiras e executa caso positivo.\n",
    "\n",
    "O _or_ checa se uma das condições é verdadeira e executa mesmo que apenas uma delas o seja.\n",
    "\n",
    "Por fim o operador _not_ inverte a lógica e executa quando a condição retorna um valor **False**.\n",
    "\n",
    "O operador _in_ é na verdade um operador de filiação ('_membership operator_') e checa se um item está contido em outro."
   ]
  },
  {
   "cell_type": "code",
   "execution_count": 18,
   "metadata": {
    "collapsed": false
   },
   "outputs": [
    {
     "data": {
      "text/plain": [
       "False"
      ]
     },
     "execution_count": 18,
     "metadata": {},
     "output_type": "execute_result"
    }
   ],
   "source": [
    "a = 2\n",
    "b = 3\n",
    "c = 5\n",
    "\n",
    "a > b"
   ]
  },
  {
   "cell_type": "code",
   "execution_count": 19,
   "metadata": {
    "collapsed": false
   },
   "outputs": [
    {
     "name": "stdout",
     "output_type": "stream",
     "text": [
      "b >= a e c > b\n"
     ]
    }
   ],
   "source": [
    "if b >= a and c > b:\n",
    "    print ('b >= a e c > b')"
   ]
  },
  {
   "cell_type": "code",
   "execution_count": 20,
   "metadata": {
    "collapsed": false
   },
   "outputs": [
    {
     "name": "stdout",
     "output_type": "stream",
     "text": [
      "b >= a ou a > b\n"
     ]
    }
   ],
   "source": [
    "if b >= a or a > b:\n",
    "    print ('b >= a ou a > b')"
   ]
  },
  {
   "cell_type": "code",
   "execution_count": 21,
   "metadata": {
    "collapsed": false
   },
   "outputs": [
    {
     "data": {
      "text/plain": [
       "True"
      ]
     },
     "execution_count": 21,
     "metadata": {},
     "output_type": "execute_result"
    }
   ],
   "source": [
    "not a > b"
   ]
  },
  {
   "cell_type": "code",
   "execution_count": 22,
   "metadata": {
    "collapsed": false
   },
   "outputs": [
    {
     "data": {
      "text/plain": [
       "True"
      ]
     },
     "execution_count": 22,
     "metadata": {},
     "output_type": "execute_result"
    }
   ],
   "source": [
    "'c' in minha_lista"
   ]
  },
  {
   "cell_type": "code",
   "execution_count": 23,
   "metadata": {
    "collapsed": false
   },
   "outputs": [
    {
     "data": {
      "text/plain": [
       "True"
      ]
     },
     "execution_count": 23,
     "metadata": {},
     "output_type": "execute_result"
    }
   ],
   "source": [
    "'uma' in minha_str1"
   ]
  },
  {
   "cell_type": "code",
   "execution_count": 24,
   "metadata": {
    "collapsed": false
   },
   "outputs": [
    {
     "name": "stdout",
     "output_type": "stream",
     "text": [
      "[2, 3, 5]\n"
     ]
    },
    {
     "data": {
      "text/plain": [
       "True"
      ]
     },
     "execution_count": 24,
     "metadata": {},
     "output_type": "execute_result"
    }
   ],
   "source": [
    "print ([a,b,c])\n",
    "5 in [a,b,c]"
   ]
  },
  {
   "cell_type": "markdown",
   "metadata": {},
   "source": [
    "## Manipulando arquivos de texto\n",
    "Arquivos de texto podem ser abertos pela função _Open()_, que irá apontar para o início do arquivo. Ao ler o arquivo isto procede desde o início até o final do arquivo ('_EOF_'), que então precisa ser aberto de novo caso queira trabalhar com ele novamente.\n",
    "\n",
    "O arquivo após aberto, possuí três métodos principais para leitura.\n",
    "\n",
    "'_arq.read()_' irá ler todo o arquivo, do começo até o final como uma única string\n",
    "\n",
    "'_arq.readlines()_' irá retornar uma lista em que cada item desta é uma linha do arquivo\n",
    "\n",
    "'_arq.readline()_' irá ler a primeira linha do arquivo, e cada vez que este método é invocado ele lê a próxima linha\n",
    "\n",
    "Opcionalmente pode-se iterar o arquivo com um _for_, onde cada iteração irá extrair uma nova linha como no método '_arq.readline()_'."
   ]
  },
  {
   "cell_type": "code",
   "execution_count": 25,
   "metadata": {
    "collapsed": true
   },
   "outputs": [],
   "source": [
    "arquivo = open('./dados/brazil-TAVG-Trend.txt')"
   ]
  },
  {
   "cell_type": "code",
   "execution_count": 26,
   "metadata": {
    "collapsed": false
   },
   "outputs": [],
   "source": [
    "dados_brazil = arquivo.read()"
   ]
  },
  {
   "cell_type": "code",
   "execution_count": 27,
   "metadata": {
    "collapsed": true
   },
   "outputs": [],
   "source": [
    "# dados_brazil\n",
    "# descomente e executa a linha acima para observar como o arquivo é apresentado após carregá-lo com o método '.read()'"
   ]
  },
  {
   "cell_type": "code",
   "execution_count": 28,
   "metadata": {
    "collapsed": true
   },
   "outputs": [],
   "source": [
    "arquivo = open('./dados/brazil-TAVG-Trend.txt')"
   ]
  },
  {
   "cell_type": "code",
   "execution_count": 29,
   "metadata": {
    "collapsed": false
   },
   "outputs": [
    {
     "data": {
      "text/plain": [
       "'% This file contains an extracted regional summary of land-surface \\n'"
      ]
     },
     "execution_count": 29,
     "metadata": {},
     "output_type": "execute_result"
    }
   ],
   "source": [
    "arquivo.readline()"
   ]
  },
  {
   "cell_type": "code",
   "execution_count": 30,
   "metadata": {
    "collapsed": false
   },
   "outputs": [],
   "source": [
    "brazil_tavg = []\n",
    "arquivo = open('./dados/brazil-TAVG-Trend.txt')\n",
    "for linha in arquivo:\n",
    "    if linha.startswith('%'):\n",
    "       brazil_tavg.append(linha[1:])\n",
    "        \n"
   ]
  },
  {
   "cell_type": "code",
   "execution_count": 31,
   "metadata": {
    "collapsed": true
   },
   "outputs": [],
   "source": [
    "# print(brazil_tavg\n",
    "# descomente e execute a linha acima para observar como ficou o arquivo após invocá-lo no loop.\n",
    "# tente entender o que o loop 'for' fez e como isto se refletiu na variável 'brazil_tavg'"
   ]
  },
  {
   "cell_type": "code",
   "execution_count": 32,
   "metadata": {
    "collapsed": false
   },
   "outputs": [],
   "source": [
    "regiao = brazil_tavg[4].strip()"
   ]
  },
  {
   "cell_type": "code",
   "execution_count": 33,
   "metadata": {
    "collapsed": false
   },
   "outputs": [
    {
     "data": {
      "text/plain": [
       "'Brazil'"
      ]
     },
     "execution_count": 33,
     "metadata": {},
     "output_type": "execute_result"
    }
   ],
   "source": [
    "regiao"
   ]
  },
  {
   "cell_type": "markdown",
   "metadata": {},
   "source": [
    "---\n",
    "O bloco de código a seguir itera sobre variável 'brazil_tavg', do tipo lista, e retorna as linhas contendo a string 'absolute temperature'. A variável 'indice' utiliza um contador simples para retornar os índices das linhas extraídas da lista 'brazil_tavg'."
   ]
  },
  {
   "cell_type": "code",
   "execution_count": 34,
   "metadata": {
    "collapsed": false
   },
   "outputs": [],
   "source": [
    "est_temp_abs = []\n",
    "indice = []\n",
    "contador = -1\n",
    "for indice_lista in brazil_tavg:\n",
    "    contador = contador + 1\n",
    "    if 'absolute temperature' in indice_lista:\n",
    "        est_temp_abs.append(indice_lista)\n",
    "        indice.append(contador)"
   ]
  },
  {
   "cell_type": "code",
   "execution_count": 35,
   "metadata": {
    "collapsed": false
   },
   "outputs": [
    {
     "name": "stdout",
     "output_type": "stream",
     "text": [
      "[' Estimated Jan 1951-Dec 1980 absolute temperature (C): 24.93 +/- 0.11\\n', ' Estimated Jan 1951-Dec 1980 monthly absolute temperature (C):\\n']\n",
      "[49, 51]\n"
     ]
    }
   ],
   "source": [
    "print(est_temp_abs)\n",
    "print(indice)"
   ]
  },
  {
   "cell_type": "markdown",
   "metadata": {},
   "source": [
    "---\n",
    "Com o arquivo salvo como uma lista de strings fica fácil navegar pelas linhas de interesse e extrair as informações desejadas. Lembrando sempre de explorar os métodos de string e recorrendo aos recursos online quando em dúvida."
   ]
  },
  {
   "cell_type": "code",
   "execution_count": 36,
   "metadata": {
    "collapsed": false
   },
   "outputs": [
    {
     "data": {
      "text/plain": [
       "['Estimated',\n",
       " 'Jan',\n",
       " '1951-Dec',\n",
       " '1980',\n",
       " 'absolute',\n",
       " 'temperature',\n",
       " '(C):',\n",
       " '24.93',\n",
       " '+/-',\n",
       " '0.11']"
      ]
     },
     "execution_count": 36,
     "metadata": {},
     "output_type": "execute_result"
    }
   ],
   "source": [
    "est_temp_abs[0].split()"
   ]
  },
  {
   "cell_type": "code",
   "execution_count": 37,
   "metadata": {
    "collapsed": false
   },
   "outputs": [],
   "source": [
    "# Neste exemplo importamos o numpy, extraímos uma linha com dados e transformamos em um array\n",
    "# com as temperaturas mensais absolutas estimadas para o período dos dados (~1951-1980)\n",
    "import numpy as np\n",
    "est_temp_abs[1]\n",
    "indice[1]\n",
    "est_temp_abs_month = np.array(brazil_tavg[indice[1]+2].split())"
   ]
  },
  {
   "cell_type": "code",
   "execution_count": 38,
   "metadata": {
    "collapsed": false
   },
   "outputs": [
    {
     "data": {
      "text/plain": [
       "array(['25.51', '25.51', '25.41', '24.71', '24.16', '23.53', '23.43',\n",
       "       '24.55', '25.47', '25.62', '25.72', '25.55'], \n",
       "      dtype='<U5')"
      ]
     },
     "execution_count": 38,
     "metadata": {},
     "output_type": "execute_result"
    }
   ],
   "source": [
    "est_temp_abs_month"
   ]
  },
  {
   "cell_type": "code",
   "execution_count": 39,
   "metadata": {
    "collapsed": false
   },
   "outputs": [
    {
     "data": {
      "text/plain": [
       "'25.5125.5125.51'"
      ]
     },
     "execution_count": 39,
     "metadata": {},
     "output_type": "execute_result"
    }
   ],
   "source": [
    "# Observem que por terem sido extraídos de uma string, estes números são do tipo str\n",
    "est_temp_abs_month[0] * 3"
   ]
  },
  {
   "cell_type": "code",
   "execution_count": 40,
   "metadata": {
    "collapsed": false
   },
   "outputs": [
    {
     "data": {
      "text/plain": [
       "76.53"
      ]
     },
     "execution_count": 40,
     "metadata": {},
     "output_type": "execute_result"
    }
   ],
   "source": [
    "float(est_temp_abs_month[0]) * 3"
   ]
  }
 ],
 "metadata": {
  "anaconda-cloud": {},
  "kernelspec": {
   "display_name": "Python 3",
   "language": "python",
   "name": "python3"
  },
  "language_info": {
   "codemirror_mode": {
    "name": "ipython",
    "version": 3
   },
   "file_extension": ".py",
   "mimetype": "text/x-python",
   "name": "python",
   "nbconvert_exporter": "python",
   "pygments_lexer": "ipython3",
   "version": "3.5.1"
  }
 },
 "nbformat": 4,
 "nbformat_minor": 0
}
